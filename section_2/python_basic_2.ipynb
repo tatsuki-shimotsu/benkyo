{
  "nbformat": 4,
  "nbformat_minor": 0,
  "metadata": {
    "colab": {
      "name": "python_basic_2.ipynb",
      "provenance": [],
      "include_colab_link": true
    },
    "kernelspec": {
      "name": "python3",
      "display_name": "Python 3"
    }
  },
  "cells": [
    {
      "cell_type": "markdown",
      "metadata": {
        "id": "view-in-github",
        "colab_type": "text"
      },
      "source": [
        "<a href=\"https://colab.research.google.com/github/tatsuki-shimotsu/benkyo/blob/main/section_2/python_basic_2.ipynb\" target=\"_parent\"><img src=\"https://colab.research.google.com/assets/colab-badge.svg\" alt=\"Open In Colab\"/></a>"
      ]
    },
    {
      "cell_type": "markdown",
      "metadata": {
        "id": "QK1qtAbx7DCH"
      },
      "source": [
        "# Pythonの基礎2\n",
        "リストや分岐、ループなどについて学んでいきます。"
      ]
    },
    {
      "cell_type": "markdown",
      "metadata": {
        "id": "BBT3UlBN7DCX"
      },
      "source": [
        "## ●リスト\n",
        "**リスト**は、複数の値をまとめて扱う場合に使用します。  \n",
        "リストは全体を`[]`で囲み、各要素は`,`で区切ります。  "
      ]
    },
    {
      "cell_type": "code",
      "metadata": {
        "id": "Qi_hyR077DCY"
      },
      "source": [
        "a = [2011, 2012, 2013, 2014, 2015]  # リストの作成\n",
        "\n",
        "print(a[0])  # 先頭から0番目の要素\n",
        "print(a[1])  # 先頭から1番目の要素\n",
        "print(a[2])  # 先頭から2番目の要素"
      ],
      "execution_count": null,
      "outputs": []
    },
    {
      "cell_type": "code",
      "metadata": {
        "id": "8uCyuQHR_4M0",
        "colab": {
          "base_uri": "https://localhost:8080/"
        },
        "outputId": "db1e7d0e-526a-4d7e-825f-f91e6105c938"
      },
      "source": [
        "# 練習用\n",
        "\n",
        "a = [2011, 2012, 2013, 2014, 2015]\n",
        "\n",
        "print(a[0])\n",
        "print(a[1])\n",
        "print(a[2])"
      ],
      "execution_count": 1,
      "outputs": [
        {
          "output_type": "stream",
          "name": "stdout",
          "text": [
            "2011\n",
            "2012\n",
            "2013\n"
          ]
        }
      ]
    },
    {
      "cell_type": "markdown",
      "metadata": {
        "id": "FsL7GD6p_xL7"
      },
      "source": [
        "リストでは、変数名の直後に`[ ]`を記述することで各要素を取り出すことができます。   \n",
        "Pythonのリストはどのような値でも格納することができます。"
      ]
    },
    {
      "cell_type": "code",
      "metadata": {
        "id": "eQyRokhrCutm"
      },
      "source": [
        "b = 2016\n",
        "c = [b, 2017, 20.1, \"Hello\", \"Hi\"]\n",
        "print(c[1:4])  # 先頭から1番目以上、4番目未満の範囲"
      ],
      "execution_count": null,
      "outputs": []
    },
    {
      "cell_type": "code",
      "metadata": {
        "id": "GCqOwdJPFAb8",
        "colab": {
          "base_uri": "https://localhost:8080/"
        },
        "outputId": "37cb41d8-b57a-43b8-bc28-db6305e12217"
      },
      "source": [
        "# 練習用\n",
        "\n",
        "b = 2016\n",
        "c = [b, 2017, 20.1, \"Hello\", \"Hi\"]\n",
        "print(c[1:4])"
      ],
      "execution_count": 2,
      "outputs": [
        {
          "output_type": "stream",
          "name": "stdout",
          "text": [
            "[2017, 20.1, 'Hello']\n"
          ]
        }
      ]
    },
    {
      "cell_type": "markdown",
      "metadata": {
        "id": "xTCNxy9IESfE"
      },
      "source": [
        "リストの中にリストを格納することもできます。"
      ]
    },
    {
      "cell_type": "code",
      "metadata": {
        "id": "T1cpxD79GBcu"
      },
      "source": [
        "d =[[2012, 2013, 2014], [2015, 2016, 2017]]\n",
        "print(d[0])  # 先頭から0番目の要素"
      ],
      "execution_count": null,
      "outputs": []
    },
    {
      "cell_type": "code",
      "metadata": {
        "id": "ScUcc8ycGXrW",
        "colab": {
          "base_uri": "https://localhost:8080/"
        },
        "outputId": "6aa83a48-4b38-421f-9252-358a85cbf3ab"
      },
      "source": [
        "# 練習用\n",
        "\n",
        "d = [[2012, 2013, 2014], [2015, 2016, 2017]]\n",
        "print(d[0])"
      ],
      "execution_count": 3,
      "outputs": [
        {
          "output_type": "stream",
          "name": "stdout",
          "text": [
            "[2012, 2013, 2014]\n"
          ]
        }
      ]
    },
    {
      "cell_type": "markdown",
      "metadata": {
        "id": "eF1dmMxzQK0-"
      },
      "source": [
        "リストは、作成後に要素を変更することができます。  \n",
        "また、appendにより要素を追加することができます。"
      ]
    },
    {
      "cell_type": "code",
      "metadata": {
        "id": "QqTepYh6QuMa"
      },
      "source": [
        "\n",
        "qe = [\"Py\", 543.21, 79, \"thon\", [2018, 2019, 2020]]\n",
        "print(e)\n",
        "\n",
        "# 要素の変更\n",
        "e[2] = 99\n",
        "print(e)\n",
        "\n",
        "# 要素の追加\n",
        "e.append(2021)\n",
        "print(e)"
      ],
      "execution_count": null,
      "outputs": []
    },
    {
      "cell_type": "code",
      "metadata": {
        "id": "XqeoFPxMqNwb",
        "colab": {
          "base_uri": "https://localhost:8080/"
        },
        "outputId": "514530f9-b6f1-4721-fb0d-8ce09411bdb4"
      },
      "source": [
        "# 練習用\n",
        "\n",
        "e = [\"Py\", 543.21, \"thon\", [2018, 2019, 2020]]\n",
        "print(e)\n",
        "\n",
        "e[2] = 99\n",
        "print(e)\n",
        "\n",
        "e.append(2021)\n",
        "print(e)"
      ],
      "execution_count": 4,
      "outputs": [
        {
          "output_type": "stream",
          "name": "stdout",
          "text": [
            "['Py', 543.21, 'thon', [2018, 2019, 2020]]\n",
            "['Py', 543.21, 99, [2018, 2019, 2020]]\n",
            "['Py', 543.21, 99, [2018, 2019, 2020], 2021]\n"
          ]
        }
      ]
    },
    {
      "cell_type": "markdown",
      "metadata": {
        "id": "GeQVpswkLLvU"
      },
      "source": [
        "リストにより、多くの値を効率よく扱うことが可能になります。"
      ]
    },
    {
      "cell_type": "markdown",
      "metadata": {
        "id": "33Tx-KRc7DCZ"
      },
      "source": [
        "## ●タプル\n",
        "**タプル**はリストと同じく複数の値をまとめて扱いたいときに利用しますが、要素の追加や削除、入れ替えなどはできません。  \n",
        "タプルは全体を`()`で囲み、各要素は`,`で区切ります。  \n",
        "要素を変更する予定が無い場合は、リストよりもタプルを使用する方がベターです。  \n",
        "以下では、リストとタプルを比較しています。  "
      ]
    },
    {
      "cell_type": "code",
      "metadata": {
        "id": "uMW9UFiP7DCa"
      },
      "source": [
        "a = [2012, 2013, 2014]  # リスト\n",
        "b = (2012, 2013, 2014)  # タプル\n",
        "\n",
        "print(a)\n",
        "print(b)\n",
        "\n",
        "print(a[1])\n",
        "print(b[1])\n",
        "\n",
        "a[1] = 2016\n",
        "print(a)\n",
        "\n",
        "# b[1] = 2016  # エラーが発生\n",
        "# print(b)\n",
        "\n",
        "a.append(2015)\n",
        "print(a)\n",
        "\n",
        "# b.append(2015)  # エラーが発生\n",
        "# print(b)"
      ],
      "execution_count": null,
      "outputs": []
    },
    {
      "cell_type": "code",
      "metadata": {
        "id": "htyvMHuSqsEf",
        "colab": {
          "base_uri": "https://localhost:8080/",
          "height": 331
        },
        "outputId": "58acd330-ca15-4d77-d560-e2972f7cfeb5"
      },
      "source": [
        "from re import A\n",
        "# 練習用\n",
        "\n",
        "a = [2012, 2013, 2014]\n",
        "b = (2012, 2013, 2014)\n",
        "\n",
        "print(a)\n",
        "print(b)\n",
        "\n",
        "print(a[1])\n",
        "print(b[1])\n",
        "\n",
        "a[1] = 2016\n",
        "print(a)\n",
        "\n",
        "#b[1] = 2016\n",
        "#print(b)\n",
        "\n",
        "a.append(2015)\n",
        "print(a)\n",
        "\n",
        "b.append(2015)\n",
        "print(b)\n",
        "\n"
      ],
      "execution_count": 6,
      "outputs": [
        {
          "output_type": "stream",
          "name": "stdout",
          "text": [
            "[2012, 2013, 2014]\n",
            "(2012, 2013, 2014)\n",
            "2013\n",
            "2013\n",
            "[2012, 2016, 2014]\n",
            "[2012, 2016, 2014, 2015]\n"
          ]
        },
        {
          "output_type": "error",
          "ename": "AttributeError",
          "evalue": "'tuple' object has no attribute 'append'",
          "traceback": [
            "\u001b[0;31m---------------------------------------------------------------------------\u001b[0m",
            "\u001b[0;31mAttributeError\u001b[0m                            Traceback (most recent call last)",
            "\u001b[0;32m<ipython-input-6-163e9d6e8771>\u001b[0m in \u001b[0;36m<cell line: 0>\u001b[0;34m()\u001b[0m\n\u001b[1;32m     20\u001b[0m \u001b[0mprint\u001b[0m\u001b[0;34m(\u001b[0m\u001b[0ma\u001b[0m\u001b[0;34m)\u001b[0m\u001b[0;34m\u001b[0m\u001b[0;34m\u001b[0m\u001b[0m\n\u001b[1;32m     21\u001b[0m \u001b[0;34m\u001b[0m\u001b[0m\n\u001b[0;32m---> 22\u001b[0;31m \u001b[0mb\u001b[0m\u001b[0;34m.\u001b[0m\u001b[0mappend\u001b[0m\u001b[0;34m(\u001b[0m\u001b[0;36m2015\u001b[0m\u001b[0;34m)\u001b[0m\u001b[0;34m\u001b[0m\u001b[0;34m\u001b[0m\u001b[0m\n\u001b[0m\u001b[1;32m     23\u001b[0m \u001b[0mprint\u001b[0m\u001b[0;34m(\u001b[0m\u001b[0mb\u001b[0m\u001b[0;34m)\u001b[0m\u001b[0;34m\u001b[0m\u001b[0;34m\u001b[0m\u001b[0m\n\u001b[1;32m     24\u001b[0m \u001b[0;34m\u001b[0m\u001b[0m\n",
            "\u001b[0;31mAttributeError\u001b[0m: 'tuple' object has no attribute 'append'"
          ]
        }
      ]
    },
    {
      "cell_type": "markdown",
      "metadata": {
        "id": "KrLdlqyL7DCc"
      },
      "source": [
        "タプルの要素を変更したり、タプルに要素を追加しようとするとエラーが発生します。"
      ]
    },
    {
      "cell_type": "markdown",
      "metadata": {
        "id": "NkynT8abLLvF"
      },
      "source": [
        "## ●辞書\n",
        "**辞書**は、キーと値の組合せでデータを格納します。　  \n",
        "以下は、Pythonの辞書を扱う例です。  \n",
        "文字列をキーとして辞書を作成し、値の取得や入れ替え、要素の追加を行なっています。"
      ]
    },
    {
      "cell_type": "code",
      "metadata": {
        "id": "_Mrxui8mLQ5P"
      },
      "source": [
        "a = {\"Taro\":1985, \"Hanako\":1986}  # 辞書の作成\n",
        "print(a[\"Taro\"])   # \"Taro\"のキーを持つ値を取得\n",
        "\n",
        "a[\"Hanako\"] = 1987  # 要素の入れ替え\n",
        "print(a)\n",
        "\n",
        "a[\"Jiro\"] = 1989  # 要素の追加\n",
        "print(a)"
      ],
      "execution_count": null,
      "outputs": []
    },
    {
      "cell_type": "code",
      "metadata": {
        "id": "srGuibNYsDrJ",
        "colab": {
          "base_uri": "https://localhost:8080/"
        },
        "outputId": "7029146d-dcaa-499f-a69e-8cfa7d649e4c"
      },
      "source": [
        "# 練習用\n",
        "\n",
        "a = {\"taro\":1985, \"hanako\":1986}\n",
        "print(a[\"taro\"])\n",
        "\n",
        "a[\"hanako\"] = 1987\n",
        "print(a)\n",
        "\n",
        "a[\"jiro\"] = 1989\n",
        "print(a)\n",
        "\n"
      ],
      "execution_count": 7,
      "outputs": [
        {
          "output_type": "stream",
          "name": "stdout",
          "text": [
            "1985\n",
            "{'taro': 1985, 'hanako': 1987}\n",
            "{'taro': 1985, 'hanako': 1987, 'jiro': 1989}\n"
          ]
        }
      ]
    },
    {
      "cell_type": "markdown",
      "metadata": {
        "id": "uEXLmC08sxOD"
      },
      "source": [
        "辞書は、キーを使って多数の値を管理したい際に使用します。"
      ]
    },
    {
      "cell_type": "markdown",
      "metadata": {
        "id": "vOkphdpi7DCh"
      },
      "source": [
        "## ●if文  \n",
        "**if**文により条件分岐を行うことができます。  \n",
        "ifの右側が`True`であればその次の処理が、`False`であればelseの次の処理が実行されます。  \n",
        "以下のコードは、`a`の値が5であれば足し算を行い、5でなければ掛け算を行います。  \n"
      ]
    },
    {
      "cell_type": "code",
      "metadata": {
        "id": "tubP_tFRzohW"
      },
      "source": [
        "a = 5\n",
        "\n",
        "if a == 5:  # aと5は等しいのでifの右はTrue\n",
        "    print(\"3+4=\")\n",
        "    print(3+4)\n",
        "else:\n",
        "    print(\"3×4=\")\n",
        "    print(3*4)"
      ],
      "execution_count": null,
      "outputs": []
    },
    {
      "cell_type": "code",
      "metadata": {
        "id": "DEzLifnOsXl9",
        "colab": {
          "base_uri": "https://localhost:8080/"
        },
        "outputId": "9f8bee22-46b3-4ce3-ebe1-eb7f97679376"
      },
      "source": [
        "# 練習用\n",
        "\n",
        "a = 6\n",
        "\n",
        "if a == 5:\n",
        "    print(\"3+4=\")\n",
        "    print(3+4)\n",
        "else:\n",
        "    print(\"3*4=\")\n",
        "    print(3*4)"
      ],
      "execution_count": 9,
      "outputs": [
        {
          "output_type": "stream",
          "name": "stdout",
          "text": [
            "3*4=\n",
            "12\n"
          ]
        }
      ]
    },
    {
      "cell_type": "markdown",
      "metadata": {
        "id": "rr_1KJ0r2Os5"
      },
      "source": [
        "分岐後の処理の行頭には、複数のスペースからなる「インデント」を挿入します。  \n",
        "インデントは通常半角スペース4つを使用します。  \n",
        "    \n",
        "3つ以上の分岐を行う際には、`elif`を使用します。  \n"
      ]
    },
    {
      "cell_type": "code",
      "metadata": {
        "id": "fod0Q-CY1k-8"
      },
      "source": [
        "b = 4\n",
        "\n",
        "if b < 3:\n",
        "    print(\"Hello!\")\n",
        "elif b < 5:  # ifの右側がFalseの場合\n",
        "    print(\"Hi!\")\n",
        "else:  # if、elifの右側がFalseの場合\n",
        "    print(\"Yeah!\")"
      ],
      "execution_count": null,
      "outputs": []
    },
    {
      "cell_type": "code",
      "metadata": {
        "id": "NzpzGvXBsnoC",
        "colab": {
          "base_uri": "https://localhost:8080/"
        },
        "outputId": "5c3429cd-2e62-492b-d2a8-023435ba66b2"
      },
      "source": [
        "# 練習用\n",
        "\n",
        "b = 5\n",
        "\n",
        "if b < 3:\n",
        "    print(\"hello\")\n",
        "elif b < 5:\n",
        "    print(\"hi\")\n",
        "else:\n",
        "    print(\"yeah\")\n"
      ],
      "execution_count": 12,
      "outputs": [
        {
          "output_type": "stream",
          "name": "stdout",
          "text": [
            "yeah\n"
          ]
        }
      ]
    },
    {
      "cell_type": "markdown",
      "metadata": {
        "id": "6bf9rfImsqRl"
      },
      "source": [
        "`elif`を並べることで、さらに多くの分岐を行うことが可能になります。"
      ]
    },
    {
      "cell_type": "code",
      "metadata": {
        "id": "mgzqzezO7DCh"
      },
      "source": [
        "time = 20\n",
        "\n",
        "if time < 12:\n",
        "    print(\"Good morning!\")\n",
        "elif time < 17:\n",
        "    print(\"Good afternoon!\")\n",
        "elif time < 21:\n",
        "    print(\"Good evening!\")\n",
        "else:\n",
        "    print(\"Good night!\")"
      ],
      "execution_count": null,
      "outputs": []
    },
    {
      "cell_type": "code",
      "metadata": {
        "id": "MajMrIr6uYFj"
      },
      "source": [
        "# 練習用\n"
      ],
      "execution_count": null,
      "outputs": []
    },
    {
      "cell_type": "markdown",
      "metadata": {
        "id": "4ikn14Eq7DCj"
      },
      "source": [
        "## ●for文\n",
        "**for**文を使えば、同じ処理を繰り返し実行することができます。  \n",
        "以下の例は、リストをとfor文を使ったループ処理です。  "
      ]
    },
    {
      "cell_type": "code",
      "metadata": {
        "id": "qf8iaf9V7DCj"
      },
      "source": [
        "a = [2001, 2002, 2003, 2004, 2005]\n",
        "for i in a:  # iにはリストaの各要素が入る\n",
        "    print(i + 10)  # 行頭にインデントを入れる"
      ],
      "execution_count": null,
      "outputs": []
    },
    {
      "cell_type": "code",
      "metadata": {
        "id": "ydtFlmi62SFw",
        "colab": {
          "base_uri": "https://localhost:8080/"
        },
        "outputId": "20f57493-fd2f-4225-cd2d-5f2c64d6a793"
      },
      "source": [
        "# 練習\n",
        "a = [2001, 2002, 2003, 2004, 2005]\n",
        "\n",
        "for i in a:\n",
        "    print(i + 10)"
      ],
      "execution_count": 14,
      "outputs": [
        {
          "output_type": "stream",
          "name": "stdout",
          "text": [
            "2011\n",
            "2012\n",
            "2013\n",
            "2014\n",
            "2015\n"
          ]
        }
      ]
    },
    {
      "cell_type": "markdown",
      "metadata": {
        "id": "QhR-cy3d2T83"
      },
      "source": [
        "繰り返し行う処理には行頭にインデントを挿入します。  \n",
        "  \n",
        "ループ内で連番の整数を使う場合は、`range`を使用します。  \n",
        "以下の例では、`i`に0から5までの整数が入ります。  "
      ]
    },
    {
      "cell_type": "code",
      "metadata": {
        "id": "BS44zQjq2cLy"
      },
      "source": [
        "for i in range(0, 6):  # iには0以上6未満の整数が入る\n",
        "    print(i * 2)"
      ],
      "execution_count": null,
      "outputs": []
    },
    {
      "cell_type": "code",
      "metadata": {
        "id": "d38PRmcY4C-B",
        "colab": {
          "base_uri": "https://localhost:8080/"
        },
        "outputId": "f46c3c01-ebf2-4c5c-c84b-e4ca1faf5f53"
      },
      "source": [
        "# 練習用\n",
        "\n",
        "for i in range(0, 6):\n",
        "    print(i * 2)"
      ],
      "execution_count": 15,
      "outputs": [
        {
          "output_type": "stream",
          "name": "stdout",
          "text": [
            "0\n",
            "2\n",
            "4\n",
            "6\n",
            "8\n",
            "10\n"
          ]
        }
      ]
    },
    {
      "cell_type": "markdown",
      "metadata": {
        "id": "0vD9S7yM4Ova"
      },
      "source": [
        "for文によるループを使うことで、冗長なコードを簡潔にまとめることが可能になります。"
      ]
    },
    {
      "cell_type": "markdown",
      "metadata": {
        "id": "FKQ9lg_NFEoJ"
      },
      "source": [
        "## ●while文\n",
        "ある条件が満たされている間ループするためには、**while**文を用います。"
      ]
    },
    {
      "cell_type": "code",
      "metadata": {
        "id": "vFVOuNokFKV3"
      },
      "source": [
        "print(\"--- 10未満 ---\")\n",
        "a = 0\n",
        "while a < 10:  # aが10未満である間ループ\n",
        "    print(a)\n",
        "    a += 1  # aに1を加える\n",
        "\n",
        "print(\"--- 10と等しくない ---\")\n",
        "b = 0\n",
        "while b != 10:  # bが10と等しくない限りループ\n",
        "    print(b)\n",
        "    b += 1"
      ],
      "execution_count": null,
      "outputs": []
    },
    {
      "cell_type": "code",
      "metadata": {
        "id": "W94f0JFR9p3p",
        "colab": {
          "base_uri": "https://localhost:8080/"
        },
        "outputId": "571312ed-19b1-48a5-bba1-f73f7459bdae"
      },
      "source": [
        "# 練習用\n",
        "\n",
        "print(\"10未満\")\n",
        "a = 0\n",
        "while a < 10:\n",
        "    print(a)\n",
        "    a += 1\n",
        "\n",
        "print(\"10と等しくない\")\n",
        "b = 0\n",
        "while b != 10:\n",
        "    print(b)\n",
        "    b += 1"
      ],
      "execution_count": 16,
      "outputs": [
        {
          "output_type": "stream",
          "name": "stdout",
          "text": [
            "10未満\n",
            "0\n",
            "1\n",
            "2\n",
            "3\n",
            "4\n",
            "5\n",
            "6\n",
            "7\n",
            "8\n",
            "9\n",
            "10と等しくない\n",
            "0\n",
            "1\n",
            "2\n",
            "3\n",
            "4\n",
            "5\n",
            "6\n",
            "7\n",
            "8\n",
            "9\n"
          ]
        }
      ]
    },
    {
      "cell_type": "markdown",
      "metadata": {
        "id": "jdyK90d_GJzn"
      },
      "source": [
        "## ●分岐とループの組み合わせ\n",
        "分岐とループを組み合わせることで、条件が満たされた処理のみをループ内で実行することが可能になります。"
      ]
    },
    {
      "cell_type": "code",
      "metadata": {
        "id": "qncEVtHrHNkM"
      },
      "source": [
        "a = []  # 空のリスト\n",
        "for i in range(0, 10):\n",
        "    if i%2 == 0:  # 偶数であれば\n",
        "        a.append(i)\n",
        "\n",
        "print (a)"
      ],
      "execution_count": null,
      "outputs": []
    },
    {
      "cell_type": "code",
      "metadata": {
        "id": "bwW7OyfbBiKR",
        "colab": {
          "base_uri": "https://localhost:8080/"
        },
        "outputId": "1d29e54c-7219-4bf0-f32d-c428c0ff7cf6"
      },
      "source": [
        "# 練習用\n",
        "\n",
        "a = []\n",
        "\n",
        "for i in range(0, 10):\n",
        "    if i%2 == 0:\n",
        "        a.append(i)\n",
        "\n",
        "print(a)"
      ],
      "execution_count": 17,
      "outputs": [
        {
          "output_type": "stream",
          "name": "stdout",
          "text": [
            "[0, 2, 4, 6, 8]\n"
          ]
        }
      ]
    },
    {
      "cell_type": "code",
      "source": [],
      "metadata": {
        "id": "Hm8KZuwFdmNl"
      },
      "execution_count": null,
      "outputs": []
    }
  ]
}